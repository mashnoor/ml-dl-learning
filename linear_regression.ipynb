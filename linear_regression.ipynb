{
  "nbformat": 4,
  "nbformat_minor": 0,
  "metadata": {
    "colab": {
      "provenance": [],
      "authorship_tag": "ABX9TyMUAMtLyJj+UrwpW1QBBgiE",
      "include_colab_link": true
    },
    "kernelspec": {
      "name": "python3",
      "display_name": "Python 3"
    },
    "language_info": {
      "name": "python"
    }
  },
  "cells": [
    {
      "cell_type": "markdown",
      "metadata": {
        "id": "view-in-github",
        "colab_type": "text"
      },
      "source": [
        "<a href=\"https://colab.research.google.com/github/mashnoor/ml-dl-learning/blob/master/linear_regression.ipynb\" target=\"_parent\"><img src=\"https://colab.research.google.com/assets/colab-badge.svg\" alt=\"Open In Colab\"/></a>"
      ]
    },
    {
      "cell_type": "code",
      "execution_count": 1,
      "metadata": {
        "id": "jxGALfbIzh__"
      },
      "outputs": [],
      "source": [
        "import math, copy\n",
        "import numpy as np\n",
        "import matplotlib.pyplot as plt"
      ]
    },
    {
      "cell_type": "code",
      "source": [
        "x_train = np.array([1.0, 2.0])\n",
        "y_train = np.array([300.0, 500.0])"
      ],
      "metadata": {
        "id": "otRsbK-b0mwu"
      },
      "execution_count": 2,
      "outputs": []
    },
    {
      "cell_type": "code",
      "source": [
        "x_train"
      ],
      "metadata": {
        "colab": {
          "base_uri": "https://localhost:8080/"
        },
        "id": "XVJm2U1P0wsC",
        "outputId": "d719dc82-4f53-4f23-877d-3f9d73b25947"
      },
      "execution_count": 3,
      "outputs": [
        {
          "output_type": "execute_result",
          "data": {
            "text/plain": [
              "array([1., 2.])"
            ]
          },
          "metadata": {},
          "execution_count": 3
        }
      ]
    },
    {
      "cell_type": "code",
      "source": [
        "x_train.shape"
      ],
      "metadata": {
        "colab": {
          "base_uri": "https://localhost:8080/"
        },
        "id": "a3J0AKQw0_MG",
        "outputId": "06d5c1cb-0382-4b33-fde4-834a10b753fd"
      },
      "execution_count": 5,
      "outputs": [
        {
          "output_type": "execute_result",
          "data": {
            "text/plain": [
              "(2,)"
            ]
          },
          "metadata": {},
          "execution_count": 5
        }
      ]
    },
    {
      "cell_type": "code",
      "source": [
        "def compute_cost(x, y, w, b):\n",
        "  m = x.shape[0]\n",
        "  cost = 0\n",
        "  for i in range(m):\n",
        "    f_wb = w*x[i] + b\n",
        "    cost += (f_wb - y[i])**2\n",
        "\n",
        "  total_cost = 1 / (2*m) * cost\n",
        "  return total_cost"
      ],
      "metadata": {
        "id": "xVkGQmZL0x_F"
      },
      "execution_count": 6,
      "outputs": []
    },
    {
      "cell_type": "code",
      "source": [
        "def compute_gradient(x, y, w, b):\n",
        "  m = x.shape[0]\n",
        "  dj_dw = 0\n",
        "  dj_db = 0\n",
        "\n",
        "  for i in range(m):\n",
        "    f_wb = w*x[i] + b\n",
        "    dj_dw_i = (f_wb - y[i]) * x[i]\n",
        "    dj_db_i = f_wb - y[i]\n",
        "    dj_dw += dj_dw_i\n",
        "    dj_db += dj_db_i\n",
        "\n",
        "  dj_dw /= m\n",
        "  dj_db /= m\n",
        "\n",
        "  return dj_dw, dj_db"
      ],
      "metadata": {
        "id": "dXH8k9jV2eFw"
      },
      "execution_count": 7,
      "outputs": []
    },
    {
      "cell_type": "code",
      "source": [
        "def gradient_descent(x, y, w_in, b_in, alpha, num_iters, gradient_function):\n",
        "  w = w_in\n",
        "  b = b_in\n",
        "  for i in range(num_iters):\n",
        "    dj_dw, dj_db = gradient_function(x, y, w, b)\n",
        "\n",
        "    w = w - alpha * dj_dw\n",
        "    b = b - alpha * dj_db\n",
        "    # print(f'Iter no: {i} Cost: {compute_cost(x, y, w,b)}')\n",
        "\n",
        "  return w, b\n",
        "\n"
      ],
      "metadata": {
        "id": "NSNFsXTH3jZJ"
      },
      "execution_count": 18,
      "outputs": []
    },
    {
      "cell_type": "code",
      "source": [
        "w_init = 0\n",
        "b_init = 0\n",
        "iter = 10000\n",
        "alpha = 1.0e-2\n",
        "w_final, b_final = gradient_descent(x_train, y_train, w_init, b_init, alpha, iter, compute_gradient)"
      ],
      "metadata": {
        "id": "mrcKMK_I4obV"
      },
      "execution_count": 19,
      "outputs": []
    },
    {
      "cell_type": "code",
      "source": [],
      "metadata": {
        "id": "i5SOAeCe5CUC"
      },
      "execution_count": null,
      "outputs": []
    }
  ]
}